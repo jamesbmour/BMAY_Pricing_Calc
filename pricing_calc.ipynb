{
 "cells": [
  {
   "cell_type": "code",
   "id": "initial_id",
   "metadata": {
    "collapsed": true,
    "ExecuteTime": {
     "end_time": "2025-02-21T01:03:06.295747Z",
     "start_time": "2025-02-21T01:03:05.876481Z"
    }
   },
   "source": "import pandas as pd",
   "outputs": [],
   "execution_count": 1
  },
  {
   "metadata": {
    "ExecuteTime": {
     "end_time": "2025-02-21T01:03:48.672033Z",
     "start_time": "2025-02-21T01:03:48.535186Z"
    }
   },
   "cell_type": "code",
   "source": [
    "df = pd.read_excel(\"data/New Install Billing Worksheet January.xlsx\")\n",
    "df.columns"
   ],
   "id": "92dd0bb2f95d46be",
   "outputs": [
    {
     "data": {
      "text/plain": [
       "Index(['Billed', 'Route Name', 'Delivery Date', 'Install Type', 'Account',\n",
       "       'Property Name', 'Store/ Location Number (host)', 'Unique ID',\n",
       "       'Address', 'City', 'St', 'Zip', 'Distance', 'Gen', 'Indoor/ Outdoor',\n",
       "       'Size', 'Config', 'Color', 'Kiosk', 'Locker Name', 'Install Notes',\n",
       "       'Ticket Correspondence', 'Emergency Removal', 'Work Status', 'Agent',\n",
       "       'Transportation/Base Charge', 'Date & Time Accessorial',\n",
       "       ' Transportation - Extra Pieces ', ' Installation ',\n",
       "       ' Installation - Extra Pieces ', ' Pre-Flight ', ' Admin Fee ',\n",
       "       'Electrical - Site Prep - SJC', ' Electrical - Final Connect - SJC',\n",
       "       'Cement - Bollards - SJC', 'Warehouse Handling',\n",
       "       'Shuttle - $ 150 - ST Needed', 'High Wind Anchors - $ 250',\n",
       "       'Provisioning - SJC', 'Total', 'PO #', 'Amount',\n",
       "       'Initially Provisioning Assigned To', 'Final Provisioning Assignment',\n",
       "       'Provisioning Short Description', 'Provisioning Hold Reason',\n",
       "       'Free Standing', 'Unnamed: 47', 'Unnamed: 48', 'Unnamed: 49',\n",
       "       'Unnamed: 50', 'Unnamed: 51', 'Unnamed: 52', 'Unnamed: 53',\n",
       "       'Unnamed: 54', 'Unnamed: 55', 'Unnamed: 56', 'Unnamed: 57',\n",
       "       'Unnamed: 58', 'Unnamed: 59', 'Unnamed: 60', 'Unnamed: 61',\n",
       "       'Unnamed: 62', 'Unnamed: 63'],\n",
       "      dtype='object')"
      ]
     },
     "execution_count": 5,
     "metadata": {},
     "output_type": "execute_result"
    }
   ],
   "execution_count": 5
  },
  {
   "metadata": {
    "ExecuteTime": {
     "end_time": "2025-02-21T01:04:32.597478Z",
     "start_time": "2025-02-21T01:04:32.592484Z"
    }
   },
   "cell_type": "code",
   "source": "df['Install Type'].unique()",
   "id": "a6515bcd7f39d6bc",
   "outputs": [
    {
     "data": {
      "text/plain": [
       "array(['CoreDownsize', 'HubPremier New Install', 'CorePermanent Removal',\n",
       "       'CoreNew Install', 'CoreSwap', 'CoreTemporary Removal', 'HubSwap',\n",
       "       'CoreSvc Call', 'DobbyLockersPremier New Install', 'CoreReinstall',\n",
       "       'CoreUpsize', 'CorePermanent Relocation', 'HubUpsize',\n",
       "       'HubPermanent Removal', 'DobbyLockersTemporary Removal',\n",
       "       'HubDownsize', 'HubPermanent Relocation', 'HubMaintenance',\n",
       "       'HubTemporary Removal', 'DobbyLockersUpsize', 'HubSvc Call',\n",
       "       'HubReinstall', ' '], dtype=object)"
      ]
     },
     "execution_count": 6,
     "metadata": {},
     "output_type": "execute_result"
    }
   ],
   "execution_count": 6
  }
 ],
 "metadata": {
  "kernelspec": {
   "display_name": "Python 3",
   "language": "python",
   "name": "python3"
  },
  "language_info": {
   "codemirror_mode": {
    "name": "ipython",
    "version": 2
   },
   "file_extension": ".py",
   "mimetype": "text/x-python",
   "name": "python",
   "nbconvert_exporter": "python",
   "pygments_lexer": "ipython2",
   "version": "2.7.6"
  }
 },
 "nbformat": 4,
 "nbformat_minor": 5
}
